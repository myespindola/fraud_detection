{
 "cells": [
  {
   "cell_type": "markdown",
   "id": "c2a9ccdb-e7e7-417b-9835-e7765b3b2d4e",
   "metadata": {},
   "source": [
    "## Modelo de regresion logistica Base"
   ]
  },
  {
   "cell_type": "code",
   "execution_count": 1,
   "id": "b9d4c8eb-2062-492e-b43d-dbe27d1bdfd4",
   "metadata": {},
   "outputs": [],
   "source": [
    "import pandas as pd\n",
    "import numpy as np\n",
    "import mlflow\n",
    "import mlflow.sklearn\n",
    "import optuna\n",
    "from sklearn.model_selection import StratifiedKFold, cross_val_predict\n",
    "from sklearn.pipeline import Pipeline\n",
    "from sklearn.linear_model import LogisticRegression\n",
    "from sklearn.metrics import roc_auc_score, confusion_matrix, fbeta_score, roc_curve\n",
    "import category_encoders as ce\n",
    "import matplotlib.pyplot as plt\n",
    "from sklearn.model_selection import train_test_split\n",
    "from sklearn.metrics import confusion_matrix, ConfusionMatrixDisplay\n",
    "\n",
    "import warnings\n",
    "from sklearn.exceptions import ConvergenceWarning\n",
    "warnings.filterwarnings(\"ignore\", category=ConvergenceWarning)"
   ]
  },
  {
   "cell_type": "code",
   "execution_count": 2,
   "id": "11543c6a-146e-423f-9381-d0c02818a2cb",
   "metadata": {},
   "outputs": [],
   "source": [
    "data_path = \"../data/fraud_train.csv\"\n",
    "df = pd.read_csv(data_path)"
   ]
  },
  {
   "cell_type": "markdown",
   "id": "e3f65f09-19e9-463e-b5e1-003aa011c9d9",
   "metadata": {},
   "source": [
    "Se hacen las transformaciones resultado del analisis exploratorio"
   ]
  },
  {
   "cell_type": "code",
   "execution_count": 3,
   "id": "e877e2d4-f93b-4a4a-bb30-40443e6e3e44",
   "metadata": {},
   "outputs": [],
   "source": [
    "df = df[\n",
    "    [\n",
    "        'Month',\n",
    "         'DayOfWeek',\n",
    "         'Make',\n",
    "         'AccidentArea',\n",
    "         'MonthClaimed',\n",
    "         'WeekOfMonthClaimed',\n",
    "         'MaritalStatus',\n",
    "         'Fault',\n",
    "         'PolicyType',\n",
    "         'VehicleCategory',\n",
    "         'VehiclePrice',\n",
    "         'Deductible',\n",
    "         'PastNumberOfClaims',\n",
    "         'AgeOfVehicle',\n",
    "         'AgeOfPolicyHolder',\n",
    "         'AgentType',\n",
    "         'NumberOfSuppliments',\n",
    "         'AddressChange_Claim',\n",
    "         'BasePolicy',\n",
    "         'FraudFound_P'\n",
    "    ]\n",
    "]"
   ]
  },
  {
   "cell_type": "code",
   "execution_count": 4,
   "id": "ab94bdb2-5e05-41f7-a581-af234230a525",
   "metadata": {},
   "outputs": [],
   "source": [
    "replace_map = {\n",
    "    'Porche': 'Luxyry',\n",
    "    'Ferrari': 'Luxyry',\n",
    "    'Mecedes': 'Luxyry'\n",
    "}\n",
    "\n",
    "# Aplica el reemplazo\n",
    "df_final = df.copy()\n",
    "df_final['Make'] = df_final['Make'].replace(replace_map)"
   ]
  },
  {
   "cell_type": "markdown",
   "id": "6e2a12d0-0ee5-4bd7-99f1-874f99ba8cfe",
   "metadata": {},
   "source": [
    "Creamos los conjuntos de entrenamiento y validacion"
   ]
  },
  {
   "cell_type": "code",
   "execution_count": 5,
   "id": "2a8ea791-ed3d-4f80-9124-28e4e42fe1cb",
   "metadata": {},
   "outputs": [],
   "source": [
    "X = df_final.drop('FraudFound_P', axis=1)\n",
    "y = df_final['FraudFound_P']"
   ]
  },
  {
   "cell_type": "code",
   "execution_count": 6,
   "id": "15dc4a1c-8fab-4e8a-8fa5-1aa66e108a7a",
   "metadata": {},
   "outputs": [],
   "source": [
    "X, X_val, y, y_val = train_test_split(\n",
    "    X, y, test_size=0.1, random_state=42, stratify=y\n",
    ")"
   ]
  },
  {
   "cell_type": "markdown",
   "id": "8c76e90e-92c8-42a4-b229-54d4d2b0395c",
   "metadata": {},
   "source": [
    "Calculo del scorecard"
   ]
  },
  {
   "cell_type": "code",
   "execution_count": 7,
   "id": "44cbbe7c",
   "metadata": {},
   "outputs": [],
   "source": [
    "def generate_scorecard(model, encoder, pdo=20, base_score=600, base_odds=50):\n",
    "    # Coeficientes del modelo\n",
    "    coef = model.named_steps[\"model\"].coef_[0]\n",
    "    intercept = model.named_steps[\"model\"].intercept_[0]\n",
    "    variables = encoder.get_feature_names_out()\n",
    "\n",
    "    # Cálculo del factor y offset\n",
    "    factor = pdo / np.log(2)\n",
    "    offset = base_score - factor * np.log(base_odds)\n",
    "\n",
    "    scorecard = []\n",
    "\n",
    "    # Iterar sobre cada variable transformada\n",
    "    for i, var in enumerate(variables):\n",
    "        # Obtener los valores WOE de cada categoría\n",
    "        orig_var = var.split(\"_\")[0]  # nombre de la variable original\n",
    "        woe_map = encoder.category_mapping[encoder.feature_names_in_.tolist().index(orig_var)]['mapping']\n",
    "        \n",
    "        points_per_category = {k: -coef[i] * factor * v for k, v in woe_map.items()}\n",
    "\n",
    "        scorecard.append({\n",
    "            \"variable\": var,\n",
    "            \"coef\": coef[i],\n",
    "            \"points_per_unit_woe\": -coef[i] * factor,\n",
    "            \"points_per_category\": points_per_category\n",
    "        })\n",
    "\n",
    "    return scorecard, intercept, factor, offset\n",
    "\n",
    "def score_from_prob(prob, factor, offset):\n",
    "    odds = prob / (1 - prob)\n",
    "    return offset - factor * np.log(odds)"
   ]
  },
  {
   "cell_type": "markdown",
   "id": "be918a95-d2f2-4a83-a233-0866d0756065",
   "metadata": {},
   "source": [
    "Optimizacion de hiperparametros con optuna para C y max_iter usando como metrica el fbeta score ya que estre prioriza el recall lo cual en un caso de deteccion de fraude es bueno ya que queremos detectar todos los verdaderos positivos a costa de tener algunos falsos positivos"
   ]
  },
  {
   "cell_type": "code",
   "execution_count": 8,
   "id": "e6683cca-e93e-477b-81c5-fef4bf33dc5a",
   "metadata": {},
   "outputs": [],
   "source": [
    "def objective(trial):\n",
    "    # Hiperparámetros del modelo\n",
    "    C = trial.suggest_float(\"C\", 0.001, 10.0, log=True)\n",
    "    max_iter = trial.suggest_int(\"max_iter\", 100, 1000)\n",
    "\n",
    "    pipeline = Pipeline([\n",
    "        (\"woe\", ce.WOEEncoder()),\n",
    "        (\"model\", LogisticRegression(C=C, max_iter=max_iter, solver=\"lbfgs\"))\n",
    "    ])\n",
    "\n",
    "    cv = StratifiedKFold(n_splits=5, shuffle=True, random_state=42)\n",
    "\n",
    "\n",
    "    y_prob = cross_val_predict(pipeline, X, y, cv=cv, method=\"predict_proba\")[:, 1]\n",
    "\n",
    "    # Aplicar threshold sugerido por Optuna\n",
    "    y_pred = (y_prob >= 0.5).astype(int)\n",
    "\n",
    "    # Métrica a maximizar\n",
    "    return fbeta_score(y, y_pred, beta=2)"
   ]
  },
  {
   "cell_type": "code",
   "execution_count": 9,
   "id": "baa46482-3e3d-45ac-b336-dc926b2e48ae",
   "metadata": {},
   "outputs": [
    {
     "name": "stderr",
     "output_type": "stream",
     "text": [
      "[I 2025-08-14 04:37:07,649] A new study created in memory with name: no-name-e30a4845-4ddd-4138-8cba-b943e2c022a1\n",
      "[I 2025-08-14 04:37:08,435] Trial 0 finished with value: 0.0 and parameters: {'C': 0.003688791216876659, 'max_iter': 594}. Best is trial 0 with value: 0.0.\n",
      "[I 2025-08-14 04:37:09,950] Trial 1 finished with value: 0.0 and parameters: {'C': 0.24230903114984595, 'max_iter': 286}. Best is trial 0 with value: 0.0.\n",
      "[I 2025-08-14 04:37:10,955] Trial 2 finished with value: 0.0 and parameters: {'C': 0.19432297890507316, 'max_iter': 758}. Best is trial 0 with value: 0.0.\n",
      "[I 2025-08-14 04:37:11,925] Trial 3 finished with value: 0.0 and parameters: {'C': 0.09641990103688695, 'max_iter': 269}. Best is trial 0 with value: 0.0.\n",
      "[I 2025-08-14 04:37:13,075] Trial 4 finished with value: 0.0047169811320754715 and parameters: {'C': 5.808393579329183, 'max_iter': 871}. Best is trial 4 with value: 0.0047169811320754715.\n",
      "[I 2025-08-14 04:37:13,867] Trial 5 finished with value: 0.0 and parameters: {'C': 0.001862863057703316, 'max_iter': 465}. Best is trial 4 with value: 0.0047169811320754715.\n",
      "[I 2025-08-14 04:37:15,114] Trial 6 finished with value: 0.0 and parameters: {'C': 0.21115160299945762, 'max_iter': 862}. Best is trial 4 with value: 0.0047169811320754715.\n",
      "[I 2025-08-14 04:37:16,245] Trial 7 finished with value: 0.0 and parameters: {'C': 0.4851546584472396, 'max_iter': 791}. Best is trial 4 with value: 0.0047169811320754715.\n",
      "[I 2025-08-14 04:37:17,505] Trial 8 finished with value: 0.0047169811320754715 and parameters: {'C': 4.741251676992495, 'max_iter': 523}. Best is trial 4 with value: 0.0047169811320754715.\n",
      "[I 2025-08-14 04:37:19,262] Trial 9 finished with value: 0.0047169811320754715 and parameters: {'C': 6.100186259502249, 'max_iter': 361}. Best is trial 4 with value: 0.0047169811320754715.\n",
      "[I 2025-08-14 04:37:20,088] Trial 10 finished with value: 0.0 and parameters: {'C': 0.012851305674583252, 'max_iter': 963}. Best is trial 4 with value: 0.0047169811320754715.\n",
      "[I 2025-08-14 04:37:20,911] Trial 11 finished with value: 0.00940733772342427 and parameters: {'C': 8.598340263469439, 'max_iter': 116}. Best is trial 11 with value: 0.00940733772342427.\n",
      "[I 2025-08-14 04:37:21,858] Trial 12 finished with value: 0.0047169811320754715 and parameters: {'C': 2.165899220864426, 'max_iter': 113}. Best is trial 11 with value: 0.00940733772342427.\n",
      "[I 2025-08-14 04:37:22,935] Trial 13 finished with value: 0.0047169811320754715 and parameters: {'C': 1.0848848505056186, 'max_iter': 656}. Best is trial 11 with value: 0.00940733772342427.\n",
      "[I 2025-08-14 04:37:23,841] Trial 14 finished with value: 0.004708097928436911 and parameters: {'C': 9.287147304374814, 'max_iter': 116}. Best is trial 11 with value: 0.00940733772342427.\n",
      "[I 2025-08-14 04:37:24,887] Trial 15 finished with value: 0.0 and parameters: {'C': 0.04149331845709078, 'max_iter': 969}. Best is trial 11 with value: 0.00940733772342427.\n",
      "[I 2025-08-14 04:37:26,233] Trial 16 finished with value: 0.0047169811320754715 and parameters: {'C': 1.2324585574993252, 'max_iter': 673}. Best is trial 11 with value: 0.00940733772342427.\n",
      "[I 2025-08-14 04:37:27,299] Trial 17 finished with value: 0.0047169811320754715 and parameters: {'C': 2.3868205476034183, 'max_iter': 410}. Best is trial 11 with value: 0.00940733772342427.\n",
      "[I 2025-08-14 04:37:28,175] Trial 18 finished with value: 0.0047169811320754715 and parameters: {'C': 9.385665952801261, 'max_iter': 226}. Best is trial 11 with value: 0.00940733772342427.\n",
      "[I 2025-08-14 04:37:29,285] Trial 19 finished with value: 0.0047169811320754715 and parameters: {'C': 0.8981427498219149, 'max_iter': 845}. Best is trial 11 with value: 0.00940733772342427.\n"
     ]
    },
    {
     "name": "stdout",
     "output_type": "stream",
     "text": [
      "Mejores params: {'C': 8.598340263469439, 'max_iter': 116}\n"
     ]
    }
   ],
   "source": [
    "study = optuna.create_study(direction=\"maximize\")\n",
    "study.optimize(objective, n_trials=20)\n",
    "best_params = study.best_params\n",
    "print(\"Mejores params:\", best_params)"
   ]
  },
  {
   "cell_type": "markdown",
   "id": "ce297b57-d680-48f8-bfff-631b66855ed1",
   "metadata": {},
   "source": [
    "Entrenamiento del modelo con los parametros optimos"
   ]
  },
  {
   "cell_type": "code",
   "execution_count": 10,
   "id": "2b1ad3eb-12a6-4966-9bee-5cc763419e7f",
   "metadata": {},
   "outputs": [],
   "source": [
    "pipeline = Pipeline(steps=[\n",
    "    (\"woe\", ce.WOEEncoder()),\n",
    "    (\"model\", LogisticRegression(**best_params, class_weight=\"balanced\", solver=\"lbfgs\"))\n",
    "])\n",
    "\n",
    "pipeline.fit(X, y)\n",
    "\n",
    "encoder = pipeline.named_steps[\"woe\"]\n",
    "scorecard, intercept, factor, offset = generate_scorecard(pipeline, encoder)\n",
    "\n",
    "y_prob_val = pipeline.predict_proba(X_val)[:, 1]\n",
    "y_score_val = score_from_prob(y_prob_val, factor, offset)\n",
    "y_pred_val = (y_prob_val >= 0.5).astype(int)\n",
    "\n",
    "\n",
    "auc = roc_auc_score(y_val, y_prob_val)\n",
    "fpr, tpr, _ = roc_curve(y_val, y_prob_val)\n",
    "ks = max(tpr - fpr)\n",
    "fb = fbeta_score(y_val, y_pred_val, beta=2)"
   ]
  },
  {
   "cell_type": "code",
   "execution_count": 11,
   "id": "79a36818-60d3-4a96-b860-10edba2527e5",
   "metadata": {},
   "outputs": [
    {
     "data": {
      "text/plain": [
       "<sklearn.metrics._plot.confusion_matrix.ConfusionMatrixDisplay at 0x7e54d95c74c0>"
      ]
     },
     "execution_count": 11,
     "metadata": {},
     "output_type": "execute_result"
    },
    {
     "data": {
      "image/png": "[encoded data removed]",
      "text/plain": [
       "<Figure size 640x480 with 2 Axes>"
      ]
     },
     "metadata": {},
     "output_type": "display_data"
    }
   ],
   "source": [
    "cm = confusion_matrix(y_pred_val, y_val)\n",
    "\n",
    "disp = ConfusionMatrixDisplay(confusion_matrix=cm)\n",
    "disp.plot()"
   ]
  },
  {
   "cell_type": "code",
   "execution_count": 12,
   "id": "492deff3-4756-4756-85a2-46aba69d9d0d",
   "metadata": {},
   "outputs": [
    {
     "name": "stdout",
     "output_type": "stream",
     "text": [
      "0.7685774946921444\n",
      "0.4899333772604144\n",
      "0.3322784810126582\n"
     ]
    }
   ],
   "source": [
    "print(auc)\n",
    "print(ks)\n",
    "print(fb)"
   ]
  },
  {
   "cell_type": "code",
   "execution_count": 13,
   "id": "b5225e9d-5fdc-4f11-81bb-3c64bae6a747",
   "metadata": {},
   "outputs": [
    {
     "data": {
      "text/html": [
       "<div>\n",
       "<style scoped>\n",
       "    .dataframe tbody tr th:only-of-type {\n",
       "        vertical-align: middle;\n",
       "    }\n",
       "\n",
       "    .dataframe tbody tr th {\n",
       "        vertical-align: top;\n",
       "    }\n",
       "\n",
       "    .dataframe thead th {\n",
       "        text-align: right;\n",
       "    }\n",
       "</style>\n",
       "<table border=\"1\" class=\"dataframe\">\n",
       "  <thead>\n",
       "    <tr style=\"text-align: right;\">\n",
       "      <th></th>\n",
       "      <th>variable</th>\n",
       "      <th>coef</th>\n",
       "      <th>points_per_unit_woe</th>\n",
       "    </tr>\n",
       "  </thead>\n",
       "  <tbody>\n",
       "    <tr>\n",
       "      <th>0</th>\n",
       "      <td>Month</td>\n",
       "      <td>0.767974</td>\n",
       "      <td>-22.159059</td>\n",
       "    </tr>\n",
       "    <tr>\n",
       "      <th>1</th>\n",
       "      <td>DayOfWeek</td>\n",
       "      <td>1.010773</td>\n",
       "      <td>-29.164747</td>\n",
       "    </tr>\n",
       "    <tr>\n",
       "      <th>2</th>\n",
       "      <td>Make</td>\n",
       "      <td>0.612275</td>\n",
       "      <td>-17.666512</td>\n",
       "    </tr>\n",
       "    <tr>\n",
       "      <th>3</th>\n",
       "      <td>AccidentArea</td>\n",
       "      <td>0.672985</td>\n",
       "      <td>-19.418249</td>\n",
       "    </tr>\n",
       "    <tr>\n",
       "      <th>4</th>\n",
       "      <td>MonthClaimed</td>\n",
       "      <td>0.524821</td>\n",
       "      <td>-15.143123</td>\n",
       "    </tr>\n",
       "    <tr>\n",
       "      <th>5</th>\n",
       "      <td>WeekOfMonthClaimed</td>\n",
       "      <td>0.072999</td>\n",
       "      <td>-2.106318</td>\n",
       "    </tr>\n",
       "    <tr>\n",
       "      <th>6</th>\n",
       "      <td>MaritalStatus</td>\n",
       "      <td>0.301227</td>\n",
       "      <td>-8.691566</td>\n",
       "    </tr>\n",
       "    <tr>\n",
       "      <th>7</th>\n",
       "      <td>Fault</td>\n",
       "      <td>1.413093</td>\n",
       "      <td>-40.773239</td>\n",
       "    </tr>\n",
       "    <tr>\n",
       "      <th>8</th>\n",
       "      <td>PolicyType</td>\n",
       "      <td>0.646358</td>\n",
       "      <td>-18.649954</td>\n",
       "    </tr>\n",
       "    <tr>\n",
       "      <th>9</th>\n",
       "      <td>VehicleCategory</td>\n",
       "      <td>-0.317296</td>\n",
       "      <td>9.155234</td>\n",
       "    </tr>\n",
       "    <tr>\n",
       "      <th>10</th>\n",
       "      <td>VehiclePrice</td>\n",
       "      <td>0.108538</td>\n",
       "      <td>-3.131746</td>\n",
       "    </tr>\n",
       "    <tr>\n",
       "      <th>11</th>\n",
       "      <td>Deductible</td>\n",
       "      <td>0.000670</td>\n",
       "      <td>-0.019324</td>\n",
       "    </tr>\n",
       "    <tr>\n",
       "      <th>12</th>\n",
       "      <td>PastNumberOfClaims</td>\n",
       "      <td>-0.091111</td>\n",
       "      <td>2.628922</td>\n",
       "    </tr>\n",
       "    <tr>\n",
       "      <th>13</th>\n",
       "      <td>AgeOfVehicle</td>\n",
       "      <td>0.669387</td>\n",
       "      <td>-19.314424</td>\n",
       "    </tr>\n",
       "    <tr>\n",
       "      <th>14</th>\n",
       "      <td>AgeOfPolicyHolder</td>\n",
       "      <td>0.980292</td>\n",
       "      <td>-28.285244</td>\n",
       "    </tr>\n",
       "    <tr>\n",
       "      <th>15</th>\n",
       "      <td>AgentType</td>\n",
       "      <td>0.514823</td>\n",
       "      <td>-14.854651</td>\n",
       "    </tr>\n",
       "    <tr>\n",
       "      <th>16</th>\n",
       "      <td>NumberOfSuppliments</td>\n",
       "      <td>0.562827</td>\n",
       "      <td>-16.239768</td>\n",
       "    </tr>\n",
       "    <tr>\n",
       "      <th>17</th>\n",
       "      <td>AddressChange_Claim</td>\n",
       "      <td>2.078382</td>\n",
       "      <td>-59.969436</td>\n",
       "    </tr>\n",
       "    <tr>\n",
       "      <th>18</th>\n",
       "      <td>BasePolicy</td>\n",
       "      <td>0.791713</td>\n",
       "      <td>-22.844016</td>\n",
       "    </tr>\n",
       "  </tbody>\n",
       "</table>\n",
       "</div>"
      ],
      "text/plain": [
       "               variable      coef  points_per_unit_woe\n",
       "0                 Month  0.767974           -22.159059\n",
       "1             DayOfWeek  1.010773           -29.164747\n",
       "2                  Make  0.612275           -17.666512\n",
       "3          AccidentArea  0.672985           -19.418249\n",
       "4          MonthClaimed  0.524821           -15.143123\n",
       "5    WeekOfMonthClaimed  0.072999            -2.106318\n",
       "6         MaritalStatus  0.301227            -8.691566\n",
       "7                 Fault  1.413093           -40.773239\n",
       "8            PolicyType  0.646358           -18.649954\n",
       "9       VehicleCategory -0.317296             9.155234\n",
       "10         VehiclePrice  0.108538            -3.131746\n",
       "11           Deductible  0.000670            -0.019324\n",
       "12   PastNumberOfClaims -0.091111             2.628922\n",
       "13         AgeOfVehicle  0.669387           -19.314424\n",
       "14    AgeOfPolicyHolder  0.980292           -28.285244\n",
       "15            AgentType  0.514823           -14.854651\n",
       "16  NumberOfSuppliments  0.562827           -16.239768\n",
       "17  AddressChange_Claim  2.078382           -59.969436\n",
       "18           BasePolicy  0.791713           -22.844016"
      ]
     },
     "execution_count": 13,
     "metadata": {},
     "output_type": "execute_result"
    }
   ],
   "source": [
    "pd.DataFrame(scorecard)"
   ]
  },
  {
   "cell_type": "code",
   "execution_count": 14,
   "id": "b5204930-e930-4579-83bf-b803d7c06022",
   "metadata": {},
   "outputs": [
    {
     "name": "stderr",
     "output_type": "stream",
     "text": [
      "2025/08/14 04:37:29 INFO mlflow.tracking.fluent: Experiment with name 'fraud_detection' does not exist. Creating a new experiment.\n"
     ]
    },
    {
     "name": "stdout",
     "output_type": "stream",
     "text": [
      "🏃 View run lr_base at: http://mlflow:5000/#/experiments/1/runs/5324911c0fa649798464866bb60214d1\n",
      "🧪 View experiment at: http://mlflow:5000/#/experiments/1\n"
     ]
    }
   ],
   "source": [
    "import pickle\n",
    "\n",
    "mlflow.set_tracking_uri(\"http://mlflow:5000\")\n",
    "model_name = 'lr_base'\n",
    "mlflow.set_experiment(\"fraud_detection\")\n",
    "with mlflow.start_run(run_name=model_name):\n",
    "    mlflow.log_params(best_params)\n",
    "    mlflow.log_metric(\"AUC\", auc)\n",
    "    mlflow.log_metric(\"KS\", ks)\n",
    "    mlflow.log_metric(\"Fbeta\", fb)\n",
    "    pd.DataFrame(scorecard).to_csv(model_name+\"scorecard.csv\", index=False)\n",
    "    with open(model_name+\"lr_model.pkl\", \"wb\") as f:\n",
    "        pickle.dump(pipeline, f)\n",
    "    mlflow.log_artifact(model_name+\"scorecard.csv\")\n",
    "    mlflow.log_artifact(model_name+\"lr_model.pkl\")\n",
    "    plt.savefig(model_name+\"confusion_matrix.png\")\n",
    "    plt.close()\n",
    "    mlflow.log_artifact(model_name+\"confusion_matrix.png\")"
   ]
  },
  {
   "cell_type": "code",
   "execution_count": null,
   "id": "7dd21ab9-b3b8-4648-ab3e-b99e2657ffbb",
   "metadata": {},
   "outputs": [],
   "source": []
  }
 ],
 "metadata": {
  "kernelspec": {
   "display_name": "Python 3 (ipykernel)",
   "language": "python",
   "name": "python3"
  },
  "language_info": {
   "codemirror_mode": {
    "name": "ipython",
    "version": 3
   },
   "file_extension": ".py",
   "mimetype": "text/x-python",
   "name": "python",
   "nbconvert_exporter": "python",
   "pygments_lexer": "ipython3",
   "version": "3.10.11"
  }
 },
 "nbformat": 4,
 "nbformat_minor": 5
}
